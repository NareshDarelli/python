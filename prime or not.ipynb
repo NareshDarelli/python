{
 "cells": [
  {
   "cell_type": "markdown",
   "metadata": {},
   "source": [
    "Write a function to given number is prime number or not"
   ]
  },
  {
   "cell_type": "code",
   "execution_count": 2,
   "metadata": {},
   "outputs": [
    {
     "name": "stdout",
     "output_type": "stream",
     "text": [
      "enter a number: 19\n",
      "True\n"
     ]
    }
   ],
   "source": [
    "import math\n",
    "\n",
    "def is_prime(n):\n",
    "    \n",
    "    if n==0 or n==1:\n",
    "        return False\n",
    "    if n==2:\n",
    "        return True\n",
    "    if n>2 and n%2==0:\n",
    "        return False\n",
    "    \n",
    "    max_div = math.floor(math.sqrt(n))\n",
    "    #print(max_div)\n",
    "    for i in range(3,max_div+1,2):\n",
    "        if n%i == 0:\n",
    "            return False\n",
    "        return True\n",
    "n = int(input(\"enter a number: \"))\n",
    "print(is_prime(n))"
   ]
  },
  {
   "cell_type": "code",
   "execution_count": null,
   "metadata": {},
   "outputs": [],
   "source": []
  }
 ],
 "metadata": {
  "kernelspec": {
   "display_name": "Python 3",
   "language": "python",
   "name": "python3"
  },
  "language_info": {
   "codemirror_mode": {
    "name": "ipython",
    "version": 3
   },
   "file_extension": ".py",
   "mimetype": "text/x-python",
   "name": "python",
   "nbconvert_exporter": "python",
   "pygments_lexer": "ipython3",
   "version": "3.6.5"
  }
 },
 "nbformat": 4,
 "nbformat_minor": 2
}
